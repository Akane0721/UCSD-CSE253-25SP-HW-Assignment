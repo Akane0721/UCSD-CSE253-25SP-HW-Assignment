{
 "cells": [
  {
   "cell_type": "markdown",
   "metadata": {},
   "source": [
    "# Homework 2: training pipeline\n",
    "\n",
    "This code will test your homework 2 solutions by using them in a complete ML pipeline. You should run this code in order to tune your model and save your model weights (which will also be uploaded as part of your solution)"
   ]
  },
  {
   "cell_type": "code",
   "execution_count": null,
   "metadata": {},
   "outputs": [],
   "source": [
    "# Download the training data from the homework2 folder:\n",
    "# unzip using tar xzvvf nsynth_subset.tar.gz\n",
    "# (this is a small subset of the \"nsynth\" dataset: https://magenta.tensorflow.org/datasets/nsynth)"
   ]
  },
  {
   "cell_type": "code",
   "execution_count": 1,
   "metadata": {},
   "outputs": [
    {
     "name": "stderr",
     "output_type": "stream",
     "text": [
      "c:\\ProgramData\\anaconda3\\Lib\\site-packages\\paramiko\\transport.py:219: CryptographyDeprecationWarning: Blowfish has been deprecated and will be removed in a future release\n",
      "  \"class\": algorithms.Blowfish,\n"
     ]
    }
   ],
   "source": [
    "import homework2"
   ]
  },
  {
   "cell_type": "markdown",
   "metadata": {},
   "source": [
    "### Install and Load Required Libraries  "
   ]
  },
  {
   "cell_type": "code",
   "execution_count": null,
   "metadata": {},
   "outputs": [],
   "source": [
    "# !pip install librosa\n",
    "# !pip install torch\n",
    "# !pip install glob\n",
    "# !pip install numpy"
   ]
  },
  {
   "cell_type": "code",
   "execution_count": 2,
   "metadata": {},
   "outputs": [],
   "source": [
    "import torch\n",
    "import torch.nn as nn\n",
    "import torch.nn.functional as nnF\n",
    "import torch.optim as optim\n",
    "from torch.utils.data import Dataset, DataLoader\n",
    "import numpy as np\n",
    "import librosa\n",
    "import random\n",
    "import glob"
   ]
  },
  {
   "cell_type": "code",
   "execution_count": 3,
   "metadata": {},
   "outputs": [],
   "source": [
    "BATCH_SIZE = 16\n",
    "torch.use_deterministic_algorithms(True)"
   ]
  },
  {
   "cell_type": "code",
   "execution_count": 4,
   "metadata": {},
   "outputs": [],
   "source": [
    "if not len(homework2.audio_paths):\n",
    "    print(\"You probably need to set the dataroot folder correctly\")"
   ]
  },
  {
   "cell_type": "code",
   "execution_count": null,
   "metadata": {},
   "outputs": [],
   "source": [
    "# Some helper functions. These are the same as what the autograder runs."
   ]
  },
  {
   "cell_type": "code",
   "execution_count": 5,
   "metadata": {},
   "outputs": [],
   "source": [
    "# Split dataset into train / valid / test\n",
    "def split_data(waveforms, labels, train_ratio=0.7, valid_ratio=0.15):\n",
    "    assert(train_ratio + valid_ratio < 1)\n",
    "    test_ratio = 1 - (train_ratio + valid_ratio)\n",
    "    N = len(waveforms)\n",
    "    Ntrain = int(N * train_ratio)\n",
    "    Nvalid = int(N * valid_ratio)\n",
    "    Ntest = int(N * test_ratio)\n",
    "    Wtrain = waveforms[:Ntrain]\n",
    "    Wvalid = waveforms[Ntrain:Ntrain + Nvalid]\n",
    "    Wtest = waveforms[Ntrain + Nvalid:]\n",
    "    ytrain = labels[:Ntrain]\n",
    "    yvalid = labels[Ntrain:Ntrain + Nvalid]\n",
    "    ytest = labels[Ntrain + Nvalid:]\n",
    "    return Wtrain,Wvalid,Wtest,ytrain,yvalid,ytest"
   ]
  },
  {
   "cell_type": "code",
   "execution_count": 6,
   "metadata": {},
   "outputs": [],
   "source": [
    "def process_data(W, feature_function):\n",
    "    return [feature_function(path) for path in W]"
   ]
  },
  {
   "cell_type": "code",
   "execution_count": 7,
   "metadata": {},
   "outputs": [],
   "source": [
    "class InstrumentDataset(Dataset):\n",
    "    def __init__(self, features, labels):\n",
    "        self.features = features\n",
    "        self.labels = labels\n",
    "        \n",
    "    def __len__(self):\n",
    "        return len(self.labels)\n",
    "\n",
    "    def __getitem__(self, idx):\n",
    "        features = self.features[idx]\n",
    "        label = self.labels[idx]\n",
    "\n",
    "        return features, torch.tensor(label, dtype=torch.long)"
   ]
  },
  {
   "cell_type": "code",
   "execution_count": 8,
   "metadata": {},
   "outputs": [],
   "source": [
    "class Loaders():\n",
    "    def __init__(self, waveforms, labels, feature_function, seed = 0):\n",
    "        torch.manual_seed(seed)\n",
    "        random.seed(seed)\n",
    "        self.Wtrain, self.Wvalid, self.Wtest, self.ytrain, self.yvalid, self.ytest = split_data(waveforms, labels)\n",
    "        \n",
    "        self.Xtrain = process_data(self.Wtrain, feature_function)\n",
    "        self.Xvalid = process_data(self.Wvalid, feature_function)\n",
    "        self.Xtest = process_data(self.Wtest, feature_function)\n",
    "        \n",
    "        self.dataTrain = InstrumentDataset(self.Xtrain, self.ytrain)\n",
    "        self.dataValid = InstrumentDataset(self.Xvalid, self.yvalid)\n",
    "        self.dataTest = InstrumentDataset(self.Xtest, self.ytest)\n",
    "        \n",
    "        self.loaderTrain = DataLoader(self.dataTrain, batch_size=BATCH_SIZE, shuffle=False, num_workers=0)\n",
    "        self.loaderValid = DataLoader(self.dataValid, batch_size=BATCH_SIZE, shuffle=False, num_workers=0)\n",
    "        self.loaderTest = DataLoader(self.dataTest, batch_size=BATCH_SIZE, shuffle=False, num_workers=0)"
   ]
  },
  {
   "cell_type": "code",
   "execution_count": 9,
   "metadata": {},
   "outputs": [],
   "source": [
    "class Pipeline():\n",
    "    def __init__(self, module, learning_rate, seed = 0):\n",
    "        # These two lines will (mostly) make things deterministic.\n",
    "        # You're welcome to modify them to try to get a better solution.\n",
    "        torch.manual_seed(seed)\n",
    "        random.seed(seed)\n",
    "\n",
    "        self.device = torch.device(\"cpu\") # Can change this if you have a GPU, but the autograder will use CPU\n",
    "        self.criterion = nn.CrossEntropyLoss()\n",
    "        \n",
    "        self.model = module.to(self.device)\n",
    "        self.optimizer = optim.Adam(self.model.parameters(), lr=learning_rate)\n",
    "\n",
    "    def evaluate(self, loader, which = \"valid\"):\n",
    "        self.model.eval()\n",
    "\n",
    "        correct = 0\n",
    "        total = 0\n",
    "\n",
    "        with torch.no_grad():\n",
    "            for inputs, labels in loader:\n",
    "                inputs, labels = inputs.to(self.device), labels.to(self.device)\n",
    "\n",
    "                outputs = self.model(inputs)\n",
    "                #loss = criterion(outputs, labels) # validation loss\n",
    "\n",
    "                _, predicted = torch.max(outputs.data, 1)\n",
    "                total += labels.size(0)\n",
    "                correct += (predicted == labels).sum().item()\n",
    "\n",
    "        acc = correct / total\n",
    "        \n",
    "        return acc\n",
    "    \n",
    "    def train(self, loaders,\n",
    "          num_epochs=1, # Train for a single epoch by default\n",
    "          model_path=None): # (Optionally) provide a path to save the best model\n",
    "        val_acc = 0\n",
    "        best_val_acc = 0\n",
    "        for epoch in range(num_epochs):\n",
    "            self.model.train()\n",
    "            \n",
    "            losses = []\n",
    "\n",
    "            for inputs, labels in loaders.loaderTrain:\n",
    "                inputs, labels = inputs.to(self.device), labels.to(self.device)\n",
    "\n",
    "                self.optimizer.zero_grad()\n",
    "                outputs = self.model(inputs)\n",
    "                loss = self.criterion(outputs, labels)\n",
    "                loss.backward()\n",
    "                self.optimizer.step()\n",
    "                losses.append(float(loss))\n",
    "            \n",
    "            self.model.eval()\n",
    "            val_acc = self.evaluate(loaders.loaderValid)\n",
    "            print(\"Epoch \" + str(epoch) + \", loss = \" + str(sum(losses)/len(losses)) +\\\n",
    "                  \", validation accuracy = \" + str(val_acc))\n",
    "\n",
    "            if val_acc > best_val_acc:\n",
    "                best_val_acc = val_acc\n",
    "                if (model_path):\n",
    "                    torch.save(self.model.state_dict(), model_path)\n",
    "        print(\"Final validation accuracy = \" + str(val_acc) + \", best = \" + str(best_val_acc))\n",
    "        return val_acc, best_val_acc\n",
    "\n",
    "    def load(self, path):\n",
    "        self.model.load_state_dict(torch.load(path, weights_only=True))"
   ]
  },
  {
   "cell_type": "code",
   "execution_count": null,
   "metadata": {},
   "outputs": [],
   "source": [
    "# The function below is the basis of how the autograder tests your code. Try to understand this one."
   ]
  },
  {
   "cell_type": "code",
   "execution_count": 10,
   "metadata": {},
   "outputs": [],
   "source": [
    "def test(waveforms, labels, feature_func, classifier, learning_rate, path):\n",
    "    print(\"Extracting features...\")\n",
    "    test_loaders = Loaders(waveforms, labels, feature_func)\n",
    "    test_pipeline = Pipeline(classifier, learning_rate)\n",
    "    \n",
    "    # Note: the autograder will not run this line: it will just load your saved model (next line)\n",
    "    acc, best_acc = test_pipeline.train(test_loaders, 10, path)\n",
    "    \n",
    "    test_pipeline.load(path)\n",
    "    test_acc = test_pipeline.evaluate(test_loaders.loaderTest)\n",
    "    print(\"Test accuracy = \" + str(test_acc))"
   ]
  },
  {
   "cell_type": "code",
   "execution_count": null,
   "metadata": {},
   "outputs": [],
   "source": [
    "# 1. Paths, labels, waveforms"
   ]
  },
  {
   "cell_type": "code",
   "execution_count": null,
   "metadata": {},
   "outputs": [],
   "source": [
    "# Once you've written the corresponding code in homework2.py, print these out or visualize them if you want\n",
    "homework2.waveforms\n",
    "homework2.labels"
   ]
  },
  {
   "cell_type": "code",
   "execution_count": null,
   "metadata": {},
   "outputs": [],
   "source": [
    "# 2. MFCC"
   ]
  },
  {
   "cell_type": "code",
   "execution_count": null,
   "metadata": {},
   "outputs": [],
   "source": [
    "test(homework2.waveforms,\n",
    "     homework2.labels,\n",
    "     homework2.extract_mfcc,\n",
    "     homework2.MLPClassifier(),\n",
    "     0.0001,\n",
    "     \"best_mlp_model.weights\")"
   ]
  },
  {
   "cell_type": "code",
   "execution_count": null,
   "metadata": {},
   "outputs": [],
   "source": [
    "# 3. Spectrogram"
   ]
  },
  {
   "cell_type": "code",
   "execution_count": 11,
   "metadata": {},
   "outputs": [
    {
     "name": "stdout",
     "output_type": "stream",
     "text": [
      "Extracting features...\n",
      "Epoch 0, loss = 0.6366069515546163, validation accuracy = 0.959349593495935\n",
      "Epoch 1, loss = 0.5683458083205752, validation accuracy = 0.9186991869918699\n",
      "Epoch 2, loss = 0.543917141854763, validation accuracy = 0.9186991869918699\n",
      "Epoch 3, loss = 0.5245005157258775, validation accuracy = 0.9186991869918699\n",
      "Epoch 4, loss = 0.5037712587250603, validation accuracy = 0.9186991869918699\n",
      "Epoch 5, loss = 0.4797395376695527, validation accuracy = 0.9186991869918699\n",
      "Epoch 6, loss = 0.45111973997619415, validation accuracy = 0.9512195121951219\n",
      "Epoch 7, loss = 0.4203209521041976, validation accuracy = 0.9512195121951219\n",
      "Epoch 8, loss = 0.3906990844342444, validation accuracy = 0.9512195121951219\n",
      "Epoch 9, loss = 0.363347615632746, validation accuracy = 0.9512195121951219\n",
      "Final validation accuracy = 0.9512195121951219, best = 0.959349593495935\n",
      "Test accuracy = 0.9354838709677419\n"
     ]
    }
   ],
   "source": [
    "test(homework2.waveforms,\n",
    "     homework2.labels,\n",
    "     homework2.extract_spec,\n",
    "     homework2.SimpleCNN(),\n",
    "     0.0001,\n",
    "     \"best_spec_model.weights\")"
   ]
  },
  {
   "cell_type": "code",
   "execution_count": null,
   "metadata": {},
   "outputs": [],
   "source": [
    "# 4. Mel-spectrogram"
   ]
  },
  {
   "cell_type": "code",
   "execution_count": null,
   "metadata": {},
   "outputs": [],
   "source": [
    "test(homework2.waveforms,\n",
    "     homework2.labels,\n",
    "     homework2.extract_mel,\n",
    "     homework2.SimpleCNN(),\n",
    "     0.0001,\n",
    "     \"best_mel_model.weights\")"
   ]
  },
  {
   "cell_type": "code",
   "execution_count": null,
   "metadata": {},
   "outputs": [],
   "source": [
    "# 5. Constant-Q"
   ]
  },
  {
   "cell_type": "code",
   "execution_count": 15,
   "metadata": {},
   "outputs": [
    {
     "name": "stdout",
     "output_type": "stream",
     "text": [
      "Extracting features...\n",
      "Epoch 0, loss = 0.619789547390408, validation accuracy = 0.7398373983739838\n",
      "Epoch 1, loss = 0.49342630472448135, validation accuracy = 0.7967479674796748\n",
      "Epoch 2, loss = 0.42306200828817153, validation accuracy = 0.8211382113821138\n",
      "Epoch 3, loss = 0.3681887197825644, validation accuracy = 0.8455284552845529\n",
      "Epoch 4, loss = 0.3273221444752481, validation accuracy = 0.8699186991869918\n",
      "Epoch 5, loss = 0.2922023754152987, validation accuracy = 0.8699186991869918\n",
      "Epoch 6, loss = 0.26237168204453254, validation accuracy = 0.8699186991869918\n",
      "Epoch 7, loss = 0.2374090879327721, validation accuracy = 0.8943089430894309\n",
      "Epoch 8, loss = 0.21657439486847985, validation accuracy = 0.9186991869918699\n",
      "Epoch 9, loss = 0.19876059020558992, validation accuracy = 0.926829268292683\n",
      "Epoch 10, loss = 0.1834026457120975, validation accuracy = 0.9349593495934959\n",
      "Epoch 11, loss = 0.1698511474662357, validation accuracy = 0.9512195121951219\n",
      "Epoch 12, loss = 0.15763221929470697, validation accuracy = 0.967479674796748\n",
      "Epoch 13, loss = 0.14642130707701048, validation accuracy = 0.967479674796748\n",
      "Epoch 14, loss = 0.1361844448579682, validation accuracy = 0.967479674796748\n",
      "Final validation accuracy = 0.967479674796748, best = 0.967479674796748\n",
      "Test accuracy = 0.967741935483871\n"
     ]
    }
   ],
   "source": [
    "test(homework2.waveforms,\n",
    "     homework2.labels,\n",
    "     homework2.extract_q,\n",
    "     homework2.SimpleCNN(),\n",
    "     0.0001,\n",
    "     \"best_q_model.weights\")"
   ]
  },
  {
   "cell_type": "code",
   "execution_count": null,
   "metadata": {},
   "outputs": [],
   "source": [
    "# 6. Pitch shift"
   ]
  },
  {
   "cell_type": "code",
   "execution_count": 17,
   "metadata": {},
   "outputs": [
    {
     "name": "stdout",
     "output_type": "stream",
     "text": [
      "Extracting features...\n",
      "Epoch 0, loss = 0.5107849968804253, validation accuracy = 0.8319783197831978\n",
      "Epoch 1, loss = 0.3665180015895102, validation accuracy = 0.9105691056910569\n",
      "Epoch 2, loss = 0.29963376511026313, validation accuracy = 0.9512195121951219\n",
      "Epoch 3, loss = 0.25356483473270025, validation accuracy = 0.986449864498645\n",
      "Epoch 4, loss = 0.22008519874954666, validation accuracy = 0.991869918699187\n",
      "Epoch 5, loss = 0.1942694338935393, validation accuracy = 0.994579945799458\n",
      "Epoch 6, loss = 0.1731550715242823, validation accuracy = 0.994579945799458\n",
      "Epoch 7, loss = 0.15451376526444047, validation accuracy = 0.997289972899729\n",
      "Epoch 8, loss = 0.13812733772728178, validation accuracy = 0.994579945799458\n",
      "Epoch 9, loss = 0.12375499304659941, validation accuracy = 0.997289972899729\n",
      "Final validation accuracy = 0.997289972899729, best = 0.997289972899729\n",
      "Test accuracy = 0.9972972972972973\n"
     ]
    }
   ],
   "source": [
    "test(homework2.augmented_waveforms,\n",
    "     homework2.augmented_labels,\n",
    "     homework2.extract_q,\n",
    "     homework2.SimpleCNN(),\n",
    "     0.0001,\n",
    "     \"best_augmented_model.weights\")"
   ]
  },
  {
   "cell_type": "code",
   "execution_count": null,
   "metadata": {},
   "outputs": [],
   "source": [
    "# 7. Extend your model to handle four classes and creatively improve its performance"
   ]
  },
  {
   "cell_type": "code",
   "execution_count": null,
   "metadata": {},
   "outputs": [],
   "source": [
    "test(homework2.waveforms,\n",
    "     homework2.labels_7,\n",
    "     homework2.feature_func_7,\n",
    "     homework2.model_7,\n",
    "     0.0001,\n",
    "     \"best_model_7.weights\")"
   ]
  },
  {
   "cell_type": "code",
   "execution_count": null,
   "metadata": {},
   "outputs": [],
   "source": []
  }
 ],
 "metadata": {
  "kernelspec": {
   "display_name": "base",
   "language": "python",
   "name": "python3"
  },
  "language_info": {
   "codemirror_mode": {
    "name": "ipython",
    "version": 3
   },
   "file_extension": ".py",
   "mimetype": "text/x-python",
   "name": "python",
   "nbconvert_exporter": "python",
   "pygments_lexer": "ipython3",
   "version": "3.12.4"
  }
 },
 "nbformat": 4,
 "nbformat_minor": 2
}
