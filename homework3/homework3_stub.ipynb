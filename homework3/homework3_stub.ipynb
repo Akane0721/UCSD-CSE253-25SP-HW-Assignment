{
 "cells": [
  {
   "cell_type": "markdown",
   "metadata": {},
   "source": [
    "## Homework 3: Symbolic Music Generation Using Markov Chains"
   ]
  },
  {
   "cell_type": "markdown",
   "metadata": {},
   "source": [
    "**Before starting the homework:**\n",
    "\n",
    "Please run `pip install miditok` to install the [MiDiTok](https://github.com/Natooz/MidiTok) package, which simplifies MIDI file processing by making note and beat extraction more straightforward.\n",
    "\n",
    "You’re also welcome to experiment with other MIDI processing libraries such as [mido](https://github.com/mido/mido), [pretty_midi](https://github.com/craffel/pretty-midi) and [miditoolkit](https://github.com/YatingMusic/miditoolkit). However, with these libraries, you’ll need to handle MIDI quantization yourself, for example, converting note-on/note-off events into beat positions and durations."
   ]
  },
  {
   "cell_type": "code",
   "execution_count": 1,
   "metadata": {},
   "outputs": [],
   "source": [
    "# run this command to install MiDiTok\n",
    "#! pip install miditok"
   ]
  },
  {
   "cell_type": "code",
   "execution_count": 2,
   "metadata": {},
   "outputs": [],
   "source": [
    "# import required packages\n",
    "import random\n",
    "from glob import glob\n",
    "from collections import defaultdict\n",
    "\n",
    "import numpy as np\n",
    "from numpy.random import choice\n",
    "\n",
    "from symusic import Score\n",
    "from miditok import REMI, TokenizerConfig\n",
    "from midiutil import MIDIFile"
   ]
  },
  {
   "cell_type": "code",
   "execution_count": 3,
   "metadata": {},
   "outputs": [],
   "source": [
    "# You can change the random seed but try to keep your results deterministic!\n",
    "# If I need to make changes to the autograder it'll require rerunning your code,\n",
    "# so it should ideally generate the same results each time.\n",
    "random.seed(42)"
   ]
  },
  {
   "cell_type": "markdown",
   "metadata": {},
   "source": [
    "### Load music dataset\n",
    "We will use a subset of the [PDMX dataset](https://zenodo.org/records/14984509). \n",
    "\n",
    "Please find the link in the homework spec.\n",
    "\n",
    "All pieces are monophonic music (i.e. one melody line) in 4/4 time signature."
   ]
  },
  {
   "cell_type": "code",
   "execution_count": 4,
   "metadata": {},
   "outputs": [
    {
     "data": {
      "text/plain": [
       "1000"
      ]
     },
     "execution_count": 4,
     "metadata": {},
     "output_type": "execute_result"
    }
   ],
   "source": [
    "midi_files = glob('PDMX_subset/*.mid')\n",
    "len(midi_files)"
   ]
  },
  {
   "cell_type": "markdown",
   "metadata": {},
   "source": [
    "### Train a tokenizer with the REMI method in MidiTok"
   ]
  },
  {
   "cell_type": "code",
   "execution_count": 5,
   "metadata": {},
   "outputs": [],
   "source": [
    "config = TokenizerConfig(num_velocities=1, use_chords=False, use_programs=False)\n",
    "tokenizer = REMI(config)\n",
    "tokenizer.train(vocab_size=1000, files_paths=midi_files)"
   ]
  },
  {
   "cell_type": "markdown",
   "metadata": {},
   "source": [
    "### Use the trained tokenizer to get tokens for each midi file\n",
    "In REMI representation, each note will be represented with four tokens: `Position, Pitch, Velocity, Duration`, e.g. `('Position_28', 'Pitch_74', 'Velocity_127', 'Duration_0.4.8')`; a `Bar_None` token indicates the beginning of a new bar."
   ]
  },
  {
   "cell_type": "code",
   "execution_count": 30,
   "metadata": {},
   "outputs": [
    {
     "data": {
      "text/plain": [
       "['Duration_0.4.8',\n",
       " 'Position_20',\n",
       " 'Pitch_78',\n",
       " 'Velocity_127',\n",
       " 'Duration_0.4.8',\n",
       " 'Position_24',\n",
       " 'Pitch_81',\n",
       " 'Velocity_127',\n",
       " 'Duration_0.4.8',\n",
       " 'Position_28',\n",
       " 'Pitch_78',\n",
       " 'Velocity_127',\n",
       " 'Duration_0.4.8',\n",
       " 'Bar_None',\n",
       " 'Position_0',\n",
       " 'Pitch_79',\n",
       " 'Velocity_127',\n",
       " 'Duration_0.4.8',\n",
       " 'Position_4',\n",
       " 'Pitch_78']"
      ]
     },
     "execution_count": 30,
     "metadata": {},
     "output_type": "execute_result"
    }
   ],
   "source": [
    "# e.g.:\n",
    "midi = Score(midi_files[0])\n",
    "tokens = tokenizer(midi)[0].tokens\n",
    "tokens[20:40]"
   ]
  },
  {
   "cell_type": "markdown",
   "metadata": {},
   "source": [
    "1. Write a function to extract note pitch events from a midi file; and another extract all note pitch events from the dataset and output a dictionary that maps note pitch events to the number of times they occur in the files. (e.g. {60: 120, 61: 58, …}).\n",
    "\n",
    "`note_extraction()`\n",
    "- **Input**: a midi file\n",
    "\n",
    "- **Output**: a list of note pitch events (e.g. [60, 62, 61, ...])\n",
    "\n",
    "`note_frequency()`\n",
    "- **Input**: all midi files `midi_files`\n",
    "\n",
    "- **Output**: a dictionary that maps note pitch events to the number of times they occur, e.g {60: 120, 61: 58, …}"
   ]
  },
  {
   "cell_type": "code",
   "execution_count": 7,
   "metadata": {},
   "outputs": [
    {
     "name": "stdout",
     "output_type": "stream",
     "text": [
      "[66, 62, 66, 69, 74, 78, 81, 78, 79, 78, 76, 73, 74, 73, 71, 69, 67, 71, 67, 66, 69, 66, 64, 62, 64, 66, 67, 66, 64, 62, 66, 62, 66, 69, 74, 78, 81, 78, 79, 78, 76, 73, 74, 73, 71, 69, 74, 78, 81, 78, 83, 79, 76, 73, 74, 74, 74, 69, 74, 78, 74, 73, 76, 73, 71, 69, 71, 73, 74, 73, 71, 69, 67, 71, 67, 66, 69, 66, 64, 62, 64, 66, 67, 66, 64, 62, 66, 62, 66, 69, 74, 78, 81, 78, 79, 78, 76, 73, 74, 73, 71, 69, 74, 78, 81, 78, 83, 79, 76, 73, 74, 74, 74, 69, 74, 78, 74, 73, 76, 73, 71, 69, 71, 73, 74, 73, 71, 69, 67, 71, 67, 66, 69, 66, 64, 62, 64, 66, 67, 66, 64, 62, 66, 62, 66, 69, 74, 78, 81, 78, 79, 78, 76, 73, 74, 73, 71, 69, 74, 78, 81, 78, 83, 79, 76, 73, 74, 74, 74, 69, 74, 78, 74, 78, 73, 76, 73, 76, 71, 73, 74, 76, 74, 73, 71, 69, 67, 71, 67, 71, 66, 69, 66, 69, 64, 66, 67, 69, 67, 66, 64, 62, 66, 62, 66, 69, 74, 78, 81, 78, 79, 76, 78, 74, 74, 73, 71, 69, 81, 78, 74, 78, 79, 76, 73, 76, 74, 74, 74, 69, 74, 78, 74, 78, 73, 76, 73, 76, 71, 73, 74, 76, 74, 73, 71, 69, 67, 71, 67, 71, 66, 69, 66, 69, 64, 66, 67, 69, 67, 66, 64, 62, 66, 62, 66, 69, 74, 78, 81, 78, 79, 76, 78, 74, 74, 73, 71, 69, 81, 78, 74, 78, 79, 76, 73, 76, 74, 74, 74]\n"
     ]
    }
   ],
   "source": [
    "def note_extraction(midi_file):\n",
    "    # Q1a: Your code goes here\n",
    "    midi = Score(midi_file)\n",
    "    tokens = tokenizer(midi)[0].tokens\n",
    "    note_pitches = []\n",
    "    \n",
    "    for t in tokens:\n",
    "        if t.startswith(\"Pitch\"):\n",
    "            note_pitches.append(int(t.split('_')[1]))          \n",
    "    \n",
    "    # for track in midi.tracks:\n",
    "    #     for note in track.notes:\n",
    "    #         note_pitches.append(note.pitch)\n",
    "    \n",
    "    return note_pitches\n",
    "\n",
    "print(note_extraction(midi_files[0]))"
   ]
  },
  {
   "cell_type": "code",
   "execution_count": 8,
   "metadata": {},
   "outputs": [
    {
     "name": "stdout",
     "output_type": "stream",
     "text": [
      "{66: 6087, 62: 5010, 69: 19315, 74: 19834, 78: 9714, 81: 6442, 79: 9400, 76: 15518, 73: 6921, 71: 17249, 67: 12003, 64: 5976, 83: 1309, 72: 9395, 65: 2223, 60: 729, 77: 2628, 82: 291, 70: 2128, 68: 771, 80: 922, 84: 146, 58: 103, 57: 457, 59: 435, 55: 178, 75: 696, 61: 326, 63: 327, 85: 65, 86: 42, 35: 16, 37: 16, 48: 16, 43: 14, 53: 29, 36: 6, 45: 2, 50: 15, 38: 2, 47: 2, 56: 13, 92: 1, 88: 13, 54: 1, 52: 75}\n"
     ]
    }
   ],
   "source": [
    "from collections import Counter\n",
    "\n",
    "def note_frequency(midi_files):\n",
    "    # Q1b: Your code goes here\n",
    "    freqs = Counter()   \n",
    "    \n",
    "    for file in midi_files:\n",
    "        notes = note_extraction(file)\n",
    "        freqs.update(Counter(notes))\n",
    "        \n",
    "    return dict(freqs)\n",
    "        \n",
    "print(note_frequency(midi_files))"
   ]
  },
  {
   "cell_type": "markdown",
   "metadata": {},
   "source": [
    "2. Write a function to normalize the above dictionary to produce probability scores (e.g. {60: 0.13, 61: 0.065, …})\n",
    "\n",
    "`note_unigram_probability()`\n",
    "- **Input**: all midi files `midi_files`\n",
    "\n",
    "- **Output**: a dictionary that maps note pitch events to probabilities, e.g. {60: 0.13, 61: 0.06, …}"
   ]
  },
  {
   "cell_type": "code",
   "execution_count": 9,
   "metadata": {},
   "outputs": [],
   "source": [
    "def note_unigram_probability(midi_files):\n",
    "    note_counts = note_frequency(midi_files)\n",
    "    unigramProbabilities = {}\n",
    "    \n",
    "    # Q2: Your code goes here\n",
    "    # ...\n",
    "    total_count = sum(note_counts.values())\n",
    "    unigramProbabilities = {pitch: count / total_count for pitch, count in note_counts.items()} \n",
    "       \n",
    "    return unigramProbabilities\n",
    "\n",
    "# print(note_unigram_probability(midi_files))"
   ]
  },
  {
   "cell_type": "markdown",
   "metadata": {},
   "source": [
    "3. Generate a table of pairwise probabilities containing p(next_note | previous_note) values for the dataset; write a function that randomly generates the next note based on the previous note based on this distribution.\n",
    "\n",
    "`note_bigram_probability()`\n",
    "- **Input**: all midi files `midi_files`\n",
    "\n",
    "- **Output**: two dictionaries:\n",
    "\n",
    "  - `bigramTransitions`: key: previous_note, value: a list of next_note, e.g. {60:[62, 64, ..], 62:[60, 64, ..], ...} (i.e., this is a list of every other note that occured after note 60, every note that occured after note 62, etc.)\n",
    "\n",
    "  - `bigramTransitionProbabilities`: key:previous_note, value: a list of probabilities for next_note in the same order of `bigramTransitions`, e.g. {60:[0.3, 0.4, ..], 62:[0.2, 0.1, ..], ...} (i.e., you are converting the values above to probabilities)\n",
    "\n",
    "`sample_next_note()`\n",
    "- **Input**: a note\n",
    "\n",
    "- **Output**: next note sampled from pairwise probabilities"
   ]
  },
  {
   "cell_type": "code",
   "execution_count": 10,
   "metadata": {},
   "outputs": [],
   "source": [
    "def note_bigram_probability(midi_files):\n",
    "    bigramTransitions = defaultdict(list)\n",
    "    bigramTransitionProbabilities = defaultdict(list)\n",
    "\n",
    "    # Q3a: Your code goes here\n",
    "    # ...\n",
    "    bigramCounts = defaultdict(lambda: defaultdict(int))\n",
    "    for midi_file in midi_files:\n",
    "        pitches = note_extraction(midi_file)\n",
    "        for i in range(len(pitches) - 1):\n",
    "            bigramCounts[pitches[i]][pitches[i+1]] += 1\n",
    "    \n",
    "    for prev, next_dict in bigramCounts.items():\n",
    "        next_nodes = list(next_dict.keys())\n",
    "        next_node_counts = list(next_dict.values())\n",
    "        next_node_probs = [count / sum(next_node_counts) for count in next_node_counts]\n",
    "        \n",
    "        bigramTransitions[prev] = next_nodes\n",
    "        bigramTransitionProbabilities[prev] = next_node_probs\n",
    "        \n",
    "\n",
    "    return bigramTransitions, bigramTransitionProbabilities\n",
    "\n"
   ]
  },
  {
   "cell_type": "code",
   "execution_count": 11,
   "metadata": {},
   "outputs": [
    {
     "name": "stdout",
     "output_type": "stream",
     "text": [
      "62\n"
     ]
    }
   ],
   "source": [
    "def sample_next_note(note):\n",
    "    # Q3b: Your code goes here\n",
    "    bigramTransitions, bigramTransitionProbabilities = note_bigram_probability(midi_files)\n",
    "    if note not in bigramTransitions:\n",
    "        return None\n",
    "    \n",
    "    next_note = np.random.choice(bigramTransitions[note], p=bigramTransitionProbabilities[note])\n",
    "    return next_note\n",
    "\n",
    "print(sample_next_note(64))"
   ]
  },
  {
   "cell_type": "markdown",
   "metadata": {},
   "source": [
    "4. Write a function to calculate the perplexity of your model on a midi file.\n",
    "\n",
    "    The perplexity of a model is defined as \n",
    "\n",
    "    $\\quad \\text{exp}(-\\frac{1}{N} \\sum_{i=1}^N \\text{log}(p(w_i|w_{i-1})))$\n",
    "\n",
    "    where $p(w_1|w_0) = p(w_1)$, $p(w_i|w_{i-1}) (i>1)$ refers to the pairwise probability p(next_note | previous_note).\n",
    "\n",
    "`note_bigram_perplexity()`\n",
    "- **Input**: a midi file\n",
    "\n",
    "- **Output**: perplexity value"
   ]
  },
  {
   "cell_type": "code",
   "execution_count": 12,
   "metadata": {},
   "outputs": [],
   "source": [
    "def note_bigram_perplexity(midi_file):\n",
    "    unigramProbabilities = note_unigram_probability(midi_files)\n",
    "    bigramTransitions, bigramTransitionProbabilities = note_bigram_probability(midi_files)\n",
    "     \n",
    "    # Q4: Your code goes here\n",
    "    # Can use regular numpy.log (i.e., natural logarithm)\n",
    "    notes = note_extraction(midi_file)\n",
    "    if len(notes) < 2:\n",
    "        return None\n",
    "    \n",
    "    log_sum = 0\n",
    "    \n",
    "    for i in range(len(notes)):\n",
    "        if i == 0:\n",
    "            prob = unigramProbabilities.get(notes[i], 1e-6)\n",
    "        else:\n",
    "            if notes[i - 1] not in bigramTransitions:\n",
    "                prob = 1e-6\n",
    "            else:\n",
    "                next_notes = bigramTransitions[notes[i - 1]]\n",
    "                next_p = bigramTransitionProbabilities[notes[i - 1]]\n",
    "                prob = next_p[next_notes.index(notes[i])] if notes[i] in next_notes else 1e-6\n",
    "        log_sum += np.log(prob)\n",
    "    \n",
    "    perplexity = np.exp(-log_sum / len(notes))\n",
    "    return perplexity\n",
    "\n",
    "# print(note_bigram_perplexity(midi_files[0]))"
   ]
  },
  {
   "cell_type": "markdown",
   "metadata": {},
   "source": [
    "5. Implement a second-order Markov chain, i.e., one which estimates p(next_note | next_previous_note, previous_note); write a function to compute the perplexity of this new model on a midi file. \n",
    "\n",
    "    The perplexity of this model is defined as \n",
    "\n",
    "    $\\quad \\text{exp}(-\\frac{1}{N} \\sum_{i=1}^N \\text{log}(p(w_i|w_{i-2}, w_{i-1})))$\n",
    "\n",
    "    where $p(w_1|w_{-1}, w_0) = p(w_1)$, $p(w_2|w_0, w_1) = p(w_2|w_1)$, $p(w_i|w_{i-2}, w_{i-1}) (i>2)$ refers to the probability p(next_note | next_previous_note, previous_note).\n",
    "\n",
    "\n",
    "`note_trigram_probability()`\n",
    "- **Input**: all midi files `midi_files`\n",
    "\n",
    "- **Output**: two dictionaries:\n",
    "\n",
    "  - `trigramTransitions`: key - (next_previous_note, previous_note), value - a list of next_note, e.g. {(60, 62):[64, 66, ..], (60, 64):[60, 64, ..], ...}\n",
    "\n",
    "  - `trigramTransitionProbabilities`: key: (next_previous_note, previous_note), value: a list of probabilities for next_note in the same order of `trigramTransitions`, e.g. {(60, 62):[0.2, 0.2, ..], (60, 64):[0.4, 0.1, ..], ...}\n",
    "\n",
    "`note_trigram_perplexity()`\n",
    "- **Input**: a midi file\n",
    "\n",
    "- **Output**: perplexity value"
   ]
  },
  {
   "cell_type": "code",
   "execution_count": 13,
   "metadata": {},
   "outputs": [],
   "source": [
    "def note_trigram_probability(midi_files):\n",
    "    trigramTransitions = defaultdict(list)\n",
    "    trigramTransitionProbabilities = defaultdict(list)\n",
    "    \n",
    "    # Q5a: Your code goes here\n",
    "    # ...\n",
    "    trigramCounts = defaultdict(lambda: defaultdict(int))\n",
    "    \n",
    "    for midi_file in midi_files:\n",
    "        notes = note_extraction(midi_file)\n",
    "        for i in range(len(notes) - 2):\n",
    "            trigramCounts[(notes[i], notes[i + 1])][notes[i + 2]] += 1\n",
    "    \n",
    "    for prevs, next_dict in trigramCounts.items():\n",
    "        next_notes = list(next_dict.keys())\n",
    "        next_counts = list(next_dict.values())\n",
    "        next_probs = [count / sum(next_counts) for count in next_counts]\n",
    "        \n",
    "        trigramTransitions[prevs] = next_notes\n",
    "        trigramTransitionProbabilities[prevs] = next_probs\n",
    "\n",
    "    return trigramTransitions, trigramTransitionProbabilities\n",
    "\n",
    "# print(note_trigram_probability(midi_files))"
   ]
  },
  {
   "cell_type": "code",
   "execution_count": 14,
   "metadata": {},
   "outputs": [
    {
     "name": "stdout",
     "output_type": "stream",
     "text": [
      "5.261031703297156\n"
     ]
    }
   ],
   "source": [
    "def note_trigram_perplexity(midi_file):\n",
    "    unigramProbabilities = note_unigram_probability(midi_files)\n",
    "    bigramTransitions, bigramTransitionProbabilities = note_bigram_probability(midi_files)\n",
    "    trigramTransitions, trigramTransitionProbabilities = note_trigram_probability(midi_files)\n",
    "    \n",
    "    # Q5b: Your code goes here\n",
    "    notes = note_extraction(midi_file)\n",
    "    if len(notes) < 3:\n",
    "        return None\n",
    "    \n",
    "    log_sum = 0\n",
    "    \n",
    "    for i in range(len(notes)):\n",
    "        if i == 0:\n",
    "            prob = unigramProbabilities.get(notes[i], 1e-6)\n",
    "        elif i == 1:\n",
    "            if notes[i] not in bigramTransitions or notes[0] not in bigramTransitions[notes[i]]:\n",
    "                prob = 1e-6\n",
    "            else:\n",
    "                idx = bigramTransitions[notes[0]].index(notes[i])\n",
    "                prob = bigramTransitionProbabilities[notes[0]][idx]\n",
    "        else:\n",
    "            if (notes[i - 2], notes[i - 1]) not in trigramTransitions or notes[i] not in trigramTransitions[(notes[i - 2], notes[i - 1])]:\n",
    "                prob = 1e-6\n",
    "            else:\n",
    "                idx = trigramTransitions[(notes[i - 2], notes[i - 1])].index(notes[i])\n",
    "                prob = trigramTransitionProbabilities[(notes[i - 2], notes[i - 1])][idx]\n",
    "    \n",
    "        log_sum += np.log(prob)\n",
    "    \n",
    "    perplexity = np.exp(-log_sum / len(notes))\n",
    "    return perplexity\n",
    "\n",
    "print(note_trigram_perplexity(midi_files[0]))\n",
    "    "
   ]
  },
  {
   "cell_type": "markdown",
   "metadata": {},
   "source": [
    "6. Our model currently doesn’t have any knowledge of beats. Write a function that extracts beat lengths and outputs a list of [(beat position; beat length)] values.\n",
    "\n",
    "    Recall that each note will be encoded as `Position, Pitch, Velocity, Duration` using REMI. Please keep the `Position` value for beat position, and convert `Duration` to beat length using provided lookup table `duration2length` (see below).\n",
    "\n",
    "    For example, for a note represented by four tokens `('Position_24', 'Pitch_72', 'Velocity_127', 'Duration_0.4.8')`, the extracted (beat position; beat length) value is `(24, 4)`.\n",
    "\n",
    "    As a result, we will obtain a list like [(0,8),(8,16),(24,4),(28,4),(0,4)...], where the next beat position is the previous beat position + the beat length. As we divide each bar into 32 positions by default, when reaching the end of a bar (i.e. 28 + 4 = 32 in the case of (28, 4)), the beat position reset to 0."
   ]
  },
  {
   "cell_type": "code",
   "execution_count": 15,
   "metadata": {},
   "outputs": [],
   "source": [
    "duration2length = {\n",
    "    '0.2.8': 2,  # sixteenth note, 0.25 beat in 4/4 time signature\n",
    "    '0.4.8': 4,  # eighth note, 0.5 beat in 4/4 time signature\n",
    "    '1.0.8': 8,  # quarter note, 1 beat in 4/4 time signature\n",
    "    '2.0.8': 16, # half note, 2 beats in 4/4 time signature\n",
    "    '4.0.4': 32, # whole note, 4 beats in 4/4 time signature\n",
    "}"
   ]
  },
  {
   "cell_type": "markdown",
   "metadata": {},
   "source": [
    "`beat_extraction()`\n",
    "- **Input**: a midi file\n",
    "\n",
    "- **Output**: a list of (beat position; beat length) values"
   ]
  },
  {
   "cell_type": "code",
   "execution_count": 16,
   "metadata": {},
   "outputs": [],
   "source": [
    "def beat_extraction(midi_file):\n",
    "    # Q6: Your code goes here\n",
    "    midi = Score(midi_file)\n",
    "    tokens = tokenizer(midi)[0].tokens\n",
    "    beats = []\n",
    "    pos = None\n",
    "    \n",
    "    for t in tokens:\n",
    "        if t.startswith(\"Position\"):\n",
    "            pos = int(t.split(\"_\")[1])\n",
    "        if t.startswith(\"Duration\"):\n",
    "            length = duration2length[t.split(\"_\")[1]]\n",
    "            beats.append((pos, length))\n",
    "    \n",
    "    return beats\n",
    "\n",
    "# print(beat_extraction(midi_files[0]))\n",
    "    "
   ]
  },
  {
   "cell_type": "markdown",
   "metadata": {},
   "source": [
    "7. Implement a Markov chain that computes p(beat_length | previous_beat_length) based on the above function.\n",
    "\n",
    "`beat_bigram_probability()`\n",
    "- **Input**: all midi files `midi_files`\n",
    "\n",
    "- **Output**: two dictionaries:\n",
    "\n",
    "  - `bigramBeatTransitions`: key: previous_beat_length, value: a list of beat_length, e.g. {4:[8, 2, ..], 8:[8, 4, ..], ...}\n",
    "\n",
    "  - `bigramBeatTransitionProbabilities`: key - previous_beat_length, value - a list of probabilities for beat_length in the same order of `bigramBeatTransitions`, e.g. {4:[0.3, 0.2, ..], 8:[0.4, 0.4, ..], ...}"
   ]
  },
  {
   "cell_type": "code",
   "execution_count": 17,
   "metadata": {},
   "outputs": [],
   "source": [
    "def beat_bigram_probability(midi_files):\n",
    "    bigramBeatTransitions = defaultdict(list)\n",
    "    bigramBeatTransitionProbabilities = defaultdict(list)\n",
    "    \n",
    "    # Q7: Your code goes here\n",
    "    # ...\n",
    "    bigramBeatCount = defaultdict(lambda: defaultdict(int))\n",
    "    for midi_file in midi_files:\n",
    "        beats = beat_extraction(midi_file)\n",
    "        for i in range(len(beats) - 1):\n",
    "            bigramBeatCount[beats[i - 1][1]][beats[i][1]] += 1\n",
    "    \n",
    "    for prev, next_dict in bigramBeatCount.items():\n",
    "        next_len = list(next_dict.keys())\n",
    "        counts = list(next_dict.values())\n",
    "        probs = [count / sum(counts) for count in counts]\n",
    "        bigramBeatTransitions[prev] = next_len\n",
    "        bigramBeatTransitionProbabilities[prev] = probs\n",
    "    \n",
    "    return bigramBeatTransitions, bigramBeatTransitionProbabilities\n",
    "\n",
    "# print(beat_bigram_probability(midi_files))"
   ]
  },
  {
   "cell_type": "markdown",
   "metadata": {},
   "source": [
    "8. Implement a function to compute p(beat length | beat position), and compute the perplexity of your models from Q7 and Q8. For both models, we only consider the probabilities of predicting the sequence of **beat lengths**.\n",
    "\n",
    "`beat_pos_bigram_probability()`\n",
    "- **Input**: all midi files `midi_files`\n",
    "\n",
    "- **Output**: two dictionaries:\n",
    "\n",
    "  - `bigramBeatPosTransitions`: key - beat_position, value - a list of beat_length\n",
    "\n",
    "  - `bigramBeatPosTransitionProbabilities`: key - beat_position, value - a list of probabilities for beat_length in the same order of `bigramBeatPosTransitions`\n",
    "\n",
    "`beat_bigram_perplexity()`\n",
    "- **Input**: a midi file\n",
    "\n",
    "- **Output**: two perplexity values correspond to the models in Q7 and Q8, respectively"
   ]
  },
  {
   "cell_type": "code",
   "execution_count": 18,
   "metadata": {},
   "outputs": [
    {
     "name": "stdout",
     "output_type": "stream",
     "text": [
      "(defaultdict(<class 'list'>, {0: [4, 8, 2, 16, 32], 4: [4, 8, 2], 8: [4, 8, 2, 16], 12: [4, 2, 8, 16], 16: [4, 8, 16, 2, 32], 20: [4, 2, 8], 24: [4, 8, 2, 16], 28: [4, 2, 8], 2: [2, 4], 10: [2, 4], 18: [2, 4], 6: [2], 30: [2], 14: [2], 22: [2], 26: [2, 4]}), defaultdict(<class 'list'>, {0: [0.649452200035342, 0.30477999646580667, 0.024341756494080227, 0.018510337515462095, 0.0029157094893090653], 4: [0.9680613850996852, 0.00675498426023085, 0.025183630640083946], 8: [0.7934901035046305, 0.1719629562375159, 0.029462502269838386, 0.005084437988015254], 12: [0.9740480632064085, 0.019971469329529243, 0.005925600790080105, 5.48666739822232e-05], 16: [0.6375483059225308, 0.3065066954255415, 0.03954345286240676, 0.016356610047631885, 4.493574188909859e-05], 20: [0.9804977838390726, 0.016638254347084897, 0.002863961813842482], 24: [0.8090402418288305, 0.1779236727753637, 0.012894388815416588, 0.00014169658038919327], 28: [0.9863976681716866, 0.013373721209350174, 0.00022861061896325085], 2: [0.9855855855855856, 0.014414414414414415], 10: [0.9848254931714719, 0.015174506828528073], 18: [0.9732620320855615, 0.026737967914438502], 6: [1.0], 30: [1.0], 14: [1.0], 22: [1.0], 26: [0.9927272727272727, 0.007272727272727273]}))\n"
     ]
    }
   ],
   "source": [
    "def beat_pos_bigram_probability(midi_files):\n",
    "    bigramBeatPosTransitions = defaultdict(list)\n",
    "    bigramBeatPosTransitionProbabilities = defaultdict(list)\n",
    "\n",
    "    \n",
    "    # Q8a: Your code goes here\n",
    "    # ...\n",
    "    bigramBeatPosCount = defaultdict(lambda: defaultdict(int))\n",
    "    for midi_file in midi_files:\n",
    "        beats = beat_extraction(midi_file)\n",
    "        for pos, length in beats:\n",
    "            bigramBeatPosCount[pos][length] += 1\n",
    "    \n",
    "    for pos, len_dict in bigramBeatPosCount.items():\n",
    "        lens = list(len_dict.keys())\n",
    "        counts = list(len_dict.values())\n",
    "        probs = [count / sum(counts) for count in counts]\n",
    "        \n",
    "        bigramBeatPosTransitions[pos] = lens\n",
    "        bigramBeatPosTransitionProbabilities[pos] = probs\n",
    "        \n",
    "    return bigramBeatPosTransitions, bigramBeatPosTransitionProbabilities\n",
    "\n",
    "print(beat_pos_bigram_probability(midi_files))"
   ]
  },
  {
   "cell_type": "code",
   "execution_count": 19,
   "metadata": {},
   "outputs": [],
   "source": [
    "def beat_unigram_probability(midi_files):\n",
    "    freqs = Counter()\n",
    "    \n",
    "    for midi_file in midi_files:\n",
    "        beats = beat_extraction(midi_file)\n",
    "        freqs.update(Counter([length for pos, length in beats]))\n",
    "    \n",
    "    total = sum(freqs.values())\n",
    "\n",
    "    beatUnigramProbabilities = {length: count / total for length, count in freqs.items()} \n",
    "       \n",
    "    return beatUnigramProbabilities\n",
    "\n",
    "# print(beat_unigram_probability(midi_files))"
   ]
  },
  {
   "cell_type": "code",
   "execution_count": 43,
   "metadata": {},
   "outputs": [
    {
     "name": "stdout",
     "output_type": "stream",
     "text": [
      "(1.3223341314670933, 1.3389008228586878)\n"
     ]
    }
   ],
   "source": [
    "def beat_bigram_perplexity(midi_file):\n",
    "    bigramBeatTransitions, bigramBeatTransitionProbabilities = beat_bigram_probability(midi_files)\n",
    "    bigramBeatPosTransitions, bigramBeatPosTransitionProbabilities = beat_pos_bigram_probability(midi_files)\n",
    "    # Q8b: Your code goes here\n",
    "    # Hint: one more probability function needs to be computed\n",
    "    unigramBeatProbability = beat_unigram_probability(midi_files)\n",
    "    \n",
    "    beats = beat_extraction(midi_file)\n",
    "    log_sum_Q7 = 0\n",
    "    log_sum_Q8 = 0\n",
    "    \n",
    "    for i in range(len(beats)):\n",
    "        if i == 0:\n",
    "            prob_Q7 = unigramBeatProbability[beats[i][1]]           \n",
    "        else:\n",
    "            index_Q7 = bigramBeatTransitions[beats[i - 1][1]].index(beats[i][1])\n",
    "            prob_Q7 = bigramBeatTransitionProbabilities[beats[i - 1][1]][index_Q7]\n",
    "            \n",
    "        index_Q8 = bigramBeatPosTransitions[beats[i][0]].index(beats[i][1])\n",
    "        prob_Q8 = bigramBeatPosTransitionProbabilities[beats[i][0]][index_Q8]\n",
    "        \n",
    "        log_sum_Q7 += np.log(prob_Q7)\n",
    "        log_sum_Q8 += np.log(prob_Q8)\n",
    "\n",
    "    # perplexity for Q7\n",
    "    perplexity_Q7 = np.exp(-log_sum_Q7 / len(beats))\n",
    "    \n",
    "    # perplexity for Q8\n",
    "    perplexity_Q8 = np.exp(-log_sum_Q8 / len(beats))\n",
    "    \n",
    "    return perplexity_Q7, perplexity_Q8\n",
    "\n",
    "print(beat_bigram_perplexity(midi_files[0]))\n"
   ]
  },
  {
   "cell_type": "markdown",
   "metadata": {},
   "source": [
    "9. Implement a Markov chain that computes p(beat_length | previous_beat_length, beat_position), and report its perplexity. \n",
    "\n",
    "`beat_trigram_probability()`\n",
    "- **Input**: all midi files `midi_files`\n",
    "\n",
    "- **Output**: two dictionaries:\n",
    "\n",
    "  - `trigramBeatTransitions`: key: (previous_beat_length, beat_position), value: a list of beat_length\n",
    "\n",
    "  - `trigramBeatTransitionProbabilities`: key: (previous_beat_length, beat_position), value: a list of probabilities for beat_length in the same order of `trigramBeatTransitions`\n",
    "\n",
    "`beat_trigram_perplexity()`\n",
    "- **Input**: a midi file\n",
    "\n",
    "- **Output**: perplexity value"
   ]
  },
  {
   "cell_type": "code",
   "execution_count": 24,
   "metadata": {},
   "outputs": [
    {
     "name": "stdout",
     "output_type": "stream",
     "text": [
      "(defaultdict(<class 'list'>, {(8, 0): [4, 8, 2, 32, 16], (4, 4): [4, 2, 8], (4, 8): [4, 2, 8, 16], (4, 12): [4, 2, 8, 16], (4, 16): [4, 8, 16, 2], (4, 20): [4, 2, 8], (4, 24): [4, 8, 2], (4, 28): [4, 2, 8], (4, 0): [4, 8, 2, 16, 32], (8, 8): [4, 8, 2, 16], (8, 24): [4, 8, 2, 16], (8, 16): [8, 16, 4, 2], (2, 2): [2, 4], (2, 4): [4, 8, 2], (16, 0): [8, 4, 2, 16, 32], (2, 10): [2, 4], (2, 12): [4, 2], (32, 0): [16, 8, 32, 4], (16, 16): [16, 8, 4], (2, 18): [2, 4], (2, 20): [4, 2], (32, 24): [8, 4], (8, 12): [4, 8, 2], (2, 6): [2], (2, 8): [4, 2, 8], (8, 28): [4, 2], (2, 30): [2], (2, 0): [4, 2, 8], (2, 28): [4, 2], (2, 14): [2], (8, 20): [4, 2], (2, 22): [2], (2, 24): [4, 2, 8], (2, 16): [2, 4, 8, 16], (2, 26): [2, 4], (8, 4): [4, 8], (16, 24): [4, 8], (16, 28): [4], (4, 22): [2], (4, 14): [2], (4, 6): [2], (16, 4): [4, 8], (16, 8): [8], (4, 30): [2], (32, 8): [8], (32, 16): [16]}), defaultdict(<class 'list'>, {(8, 0): [0.5150727650727651, 0.41813929313929316, 0.015852390852390853, 0.004158004158004158, 0.04677754677754678], (4, 4): [0.981530702651128, 0.01240373475090302, 0.006065562597969059], (4, 8): [0.9122354856212697, 0.028553988062940856, 0.05860010851871948, 0.0006104177970699946], (4, 12): [0.9863766456783056, 0.008070978820835718, 0.005495134516313681, 5.7240984544934173e-05], (4, 16): [0.7248322147651006, 0.24252075986804686, 0.017802297804572858, 0.014844727562279603], (4, 20): [0.9892761394101877, 0.00790179201354593, 0.002822068576266403], (4, 24): [0.9068948163059889, 0.08246459127183838, 0.010640592422172693], (4, 28): [0.9943248995034287, 0.005438637975880823, 0.00023646252069047056], (4, 0): [0.6964978325347935, 0.2713324207164043, 0.02138945927446954, 0.009525439196897103, 0.0012548482774355464], (8, 8): [0.5518394648829431, 0.42184091900538023, 0.012360040715428238, 0.013959575396248364], (8, 24): [0.6388888888888888, 0.3548876745598057, 0.005768063145112325, 0.0004553734061930783], (8, 16): [0.5821349557522124, 0.08075221238938053, 0.33351769911504425, 0.003595132743362832], (2, 2): [0.9855595667870036, 0.01444043321299639], (2, 4): [0.6231617647058824, 0.0055147058823529415, 0.3713235294117647], (16, 0): [0.562929061784897, 0.37528604118993136, 0.003432494279176201, 0.05148741418764302, 0.006864988558352402], (2, 10): [0.9848254931714719, 0.015174506828528073], (2, 12): [0.662992125984252, 0.33700787401574805], (32, 0): [0.3333333333333333, 0.2857142857142857, 0.12698412698412698, 0.25396825396825395], (16, 16): [0.43526170798898073, 0.4820936639118457, 0.08264462809917356], (2, 18): [0.9732620320855615, 0.026737967914438502], (2, 20): [0.6703296703296703, 0.32967032967032966], (32, 24): [0.5, 0.5], (8, 12): [0.897196261682243, 0.018691588785046728, 0.08411214953271028], (2, 6): [1.0], (2, 8): [0.5963541666666666, 0.3723958333333333, 0.03125], (8, 28): [0.7875, 0.2125], (2, 30): [1.0], (2, 0): [0.5390070921985816, 0.3971631205673759, 0.06382978723404255], (2, 28): [0.5437956204379562, 0.4562043795620438], (2, 14): [1.0], (8, 20): [0.875, 0.125], (2, 22): [1.0], (2, 24): [0.4789915966386555, 0.36554621848739494, 0.15546218487394958], (2, 16): [0.26706231454005935, 0.6142433234421365, 0.10979228486646884, 0.008902077151335312], (2, 26): [0.9927272727272727, 0.007272727272727273], (8, 4): [0.6153846153846154, 0.38461538461538464], (16, 24): [0.5634920634920635, 0.4365079365079365], (16, 28): [1.0], (4, 22): [1.0], (4, 14): [1.0], (4, 6): [1.0], (16, 4): [0.14285714285714285, 0.8571428571428571], (16, 8): [1.0], (4, 30): [1.0], (32, 8): [1.0], (32, 16): [1.0]}))\n"
     ]
    }
   ],
   "source": [
    "def beat_trigram_probability(midi_files):\n",
    "    trigramBeatTransitions = defaultdict(list)\n",
    "    trigramBeatTransitionProbabilities = defaultdict(list)\n",
    "\n",
    "    # Q9a: Your code goes here\n",
    "    # ...\n",
    "    trigramBeatCount = defaultdict(lambda: defaultdict(int))\n",
    "    for midi_file in midi_files:\n",
    "        beats = beat_extraction(midi_file)\n",
    "        for i in range(len(beats) - 1):\n",
    "            trigramBeatCount[(beats[i - 1][1], beats[i][0])][beats[i][1]] += 1\n",
    "    \n",
    "    for prevs, len_dict in trigramBeatCount.items():\n",
    "        lens = list(len_dict.keys())\n",
    "        counts = list(len_dict.values())\n",
    "        probs = [count / sum(counts) for count in counts]\n",
    "        trigramBeatTransitions[prevs] = lens\n",
    "        trigramBeatTransitionProbabilities[prevs] = probs\n",
    "    \n",
    "    return trigramBeatTransitions, trigramBeatTransitionProbabilities\n",
    "\n",
    "print(beat_trigram_probability(midi_files))\n"
   ]
  },
  {
   "cell_type": "code",
   "execution_count": 26,
   "metadata": {},
   "outputs": [
    {
     "name": "stdout",
     "output_type": "stream",
     "text": [
      "1.2481827567452297\n"
     ]
    }
   ],
   "source": [
    "def beat_trigram_perplexity(midi_file):\n",
    "    bigramBeatPosTransitions, bigramBeatPosTransitionProbabilities = beat_pos_bigram_probability(midi_files)\n",
    "    trigramBeatTransitions, trigramBeatTransitionProbabilities = beat_trigram_probability(midi_files)\n",
    "    # Q9b: Your code goes here\n",
    "    \n",
    "    log_sum = 0\n",
    "    beats = beat_extraction(midi_file)\n",
    "    for i in range(len(beats)):\n",
    "        if i == 0:\n",
    "            idx = bigramBeatPosTransitions[beats[i][0]].index(beats[i][1])\n",
    "            prob = bigramBeatPosTransitionProbabilities[beats[i][0]][idx]     \n",
    "        else:\n",
    "            idx = trigramBeatTransitions[(beats[i - 1][1], beats[i][0])].index(beats[i][1])\n",
    "            prob = trigramBeatTransitionProbabilities[(beats[i - 1][1], beats[i][0])][idx]\n",
    "        \n",
    "        log_sum += np.log(prob)\n",
    "    \n",
    "    perplexity = np.exp(-log_sum / len(beats))\n",
    "    return perplexity\n",
    "\n",
    "print(beat_trigram_perplexity(midi_files[0]))"
   ]
  },
  {
   "cell_type": "markdown",
   "metadata": {},
   "source": [
    "10. Use the model from Q5 to generate N notes, and the model from Q8 to generate beat lengths for each note. Save the generated music as a midi file (see code from workbook1) as q10.mid. Remember to reset the beat position to 0 when reaching the end of a bar.\n",
    "\n",
    "`music_generate`\n",
    "- **Input**: target length, e.g. 500\n",
    "\n",
    "- **Output**: a midi file q10.mid\n",
    "\n",
    "Note: the duration of one beat in MIDIUtil is 1, while in MidiTok is 8. Divide beat length by 8 if you use methods in MIDIUtil to save midi files."
   ]
  },
  {
   "cell_type": "code",
   "execution_count": null,
   "metadata": {},
   "outputs": [],
   "source": [
    "def music_generate(length):\n",
    "    # sample notes\n",
    "    unigramProbabilities = note_unigram_probability(midi_files)\n",
    "    bigramTransitions, bigramTransitionProbabilities = note_bigram_probability(midi_files)\n",
    "    trigramTransitions, trigramTransitionProbabilities = note_trigram_probability(midi_files)\n",
    "    \n",
    "    # Q10: Your code goes here ...\n",
    "    all_notes = list(unigramProbabilities.keys())\n",
    "    all_notes_p = list(unigramProbabilities.values())\n",
    "    prev_prev_note = np.random.choice(all_notes, p=all_notes_p)\n",
    "    prev_note = np.random.choice(bigramTransitions[prev_prev_note], p=bigramTransitionProbabilities[prev_prev_note])\n",
    "    sampled_notes = [prev_prev_note, prev_note]\n",
    "    \n",
    "    if length <= 2:\n",
    "        sampled_notes = sampled_notes[:length]\n",
    "    else:\n",
    "        for _ in range(length - 2):\n",
    "            key = (prev_prev_note, prev_note)\n",
    "            if key in trigramTransitions:\n",
    "                next_note = np.random.choice(trigramTransitions[key], p=trigramTransitionProbabilities[key])\n",
    "            else:\n",
    "                if prev_note in bigramTransitions:\n",
    "                    next_note = np.random.choice(bigramTransitions[prev_note], p=bigramTransitionProbabilities[prev_note])\n",
    "                else:    \n",
    "                    next_note = np.random.choice(all_notes, p=all_notes_p)\n",
    "            sampled_notes.append(next_note)\n",
    "            prev_prev_note, prev_note = prev_note, next_note\n",
    "    \n",
    "    length2duration = {v: k for k, v in duration2length.items()}\n",
    "    bigramBeatPosTransitions, bigramBeatPosTransitionProbabilities = beat_pos_bigram_probability(midi_files)\n",
    "    current_position = 0\n",
    "    bar_length = 32\n",
    "    tokens = [\"Bar_None\"]\n",
    "    \n",
    "    for note in sampled_notes:\n",
    "        if current_position >= bar_length:\n",
    "            tokens.append(\"Bar_None\")\n",
    "            current_position -= bar_length\n",
    "        \n",
    "        if current_position not in bigramBeatPosTransitions:\n",
    "            beat_length = random.choice(length2duration.keys())\n",
    "        else:\n",
    "            beat_length = np.random.choice(bigramBeatPosTransitions[current_position], p=bigramBeatPosTransitionProbabilities[current_position])\n",
    "        duration = length2duration[beat_length]\n",
    "        \n",
    "        tokens.append(f\"Position_{current_position}\")\n",
    "        tokens.append(f\"Pitch_{note}\")\n",
    "        tokens.append(\"Velocity_127\")\n",
    "        tokens.append(f\"Duration_{duration}\")\n",
    "        \n",
    "        current_position += beat_length\n",
    "    \n",
    "    from miditok import TokSequence\n",
    "    \n",
    "    tokseq = TokSequence(tokens=tokens)\n",
    "    score = tokenizer.decode([tokseq])\n",
    "    score.dump_midi(\"q10.mid\")   \n",
    "        \n",
    "    \n",
    "    # sample beats\n",
    "    sampled_beats = []\n",
    "    \n",
    "    # save the generated music as a midi file\n",
    "\n",
    "# music_generate(200)\n"
   ]
  }
 ],
 "metadata": {
  "kernelspec": {
   "display_name": "base",
   "language": "python",
   "name": "python3"
  },
  "language_info": {
   "codemirror_mode": {
    "name": "ipython",
    "version": 3
   },
   "file_extension": ".py",
   "mimetype": "text/x-python",
   "name": "python",
   "nbconvert_exporter": "python",
   "pygments_lexer": "ipython3",
   "version": "3.12.4"
  }
 },
 "nbformat": 4,
 "nbformat_minor": 2
}
